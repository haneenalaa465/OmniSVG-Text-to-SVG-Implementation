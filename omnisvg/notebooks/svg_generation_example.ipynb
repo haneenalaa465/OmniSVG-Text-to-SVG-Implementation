{
 "cells": [
  {
   "cell_type": "markdown",
   "metadata": {},
   "source": [
    "# OmniSVG: SVG Generation Example\n",
    "\n",
    "This notebook demonstrates how to use OmniSVG to generate vector graphics from text descriptions."
   ]
  },
  {
   "cell_type": "code",
   "execution_count": null,
   "metadata": {},
   "source": [
    "# Install the package if needed\n",
    "# !pip install -e ..\n",
    "\n",
    "import sys\n",
    "from pathlib import Path\n",
    "\n",
    "# Add the project root to the path if not installed\n",
    "project_root = Path.cwd().parent\n",
    "if str(project_root) not in sys.path:\n",
    "    sys.path.insert(0, str(project_root))"
   ]
  },
  {
   "cell_type": "code",
   "execution_count": null,
   "metadata": {},
   "source": [
    "# Import required modules\n",
    "from omnisvg.modeling import load_model, generate_svg_from_text, test_generation\n",
    "from omnisvg.visualization import display_svg, compare_svgs, visualize_token_distribution\n",
    "from omnisvg.tokenizer import SVGTokenizer"
   ]
  },
  {
   "cell_type": "markdown",
   "metadata": {},
   "source": [
    "## 1. Load the model\n",
    "\n",
    "First, we'll load the pretrained model. If you have a finetuned model, you can specify its path."
   ]
  },
  {
   "cell_type": "code",
   "execution_count": null,
   "metadata": {},
   "source": [
    "# Load the model (this may take a few minutes)\n",
    "# Set model_path to None to use the base model without finetuning\n",
    "model_path = None  # or path to your trained model\n",
    "model, text_tokenizer, svg_tokenizer = load_model(model_path=model_path)"
   ]
  },
  {
   "cell_type": "markdown",
   "metadata": {},
   "source": [
    "## 2. Generate a simple SVG\n",
    "\n",
    "Let's start by generating a simple SVG from a text description."
   ]
  },
  {
   "cell_type": "code",
   "execution_count": null,
   "metadata": {},
   "source": [
    "# Define a text prompt\n",
    "prompt = \"A red heart icon\"\n",
    "\n",
    "# Generate the SVG\n",
    "svg = generate_svg_from_text(prompt, model, text_tokenizer, svg_tokenizer)\n",
    "\n",
    "# Display the generated SVG\n",
    "display_svg(svg)\n",
    "\n",
    "# Print the SVG text\n",
    "print(svg[:200] + '...' if len(svg) > 200 else svg)"
   ]
  },
  {
   "cell_type": "markdown",
   "metadata": {},
   "source": [
    "## 3. Analyze Token Distribution\n",
    "\n",
    "Let's examine how the SVG commands are distributed in the generated SVG."
   ]
  },
  {
   "cell_type": "code",
   "execution_count": null,
   "metadata": {},
   "source": [
    "# Tokenize the SVG\n",
    "tokens = svg_tokenizer.encode(svg)\n",
    "\n",
    "# Visualize token distribution\n",
    "visualize_token_distribution(tokens)\n",
    "\n",
    "# Inspect the token pattern\n",
    "pattern_info = svg_tokenizer.inspect_svg_token_pattern(tokens)\n",
    "print(\"\\nToken Pattern Analysis:\")\n",
    "print(f\"Total commands: {sum(pattern_info['commands'].values())}\")\n",
    "print(f\"Command distribution: {pattern_info['commands']}\")\n",
    "print(f\"Total coordinate tokens: {pattern_info['total_coords']}\")\n",
    "print(f\"Total color tokens: {pattern_info['color_tokens']}\")"
   ]
  },
  {
   "cell_type": "markdown",
   "metadata": {},
   "source": [
    "## 4. Generate Multiple SVGs\n",
    "\n",
    "Now let's generate multiple SVGs at once and compare them."
   ]
  },
  {
   "cell_type": "code",
   "execution_count": null,
   "metadata": {},
   "source": [
    "# Define multiple prompts\n",
    "prompts = [\n",
    "    \"A blue star icon\",\n",
    "    \"A green tree icon\",\n",
    "    \"A yellow sun with rays\",\n",
    "    \"A purple crescent moon\"\n",
    "]\n",
    "\n",
    "# Generate SVGs for each prompt\n",
    "svgs = []\n",
    "for prompt in prompts:\n",
    "    svg = generate_svg_from_text(prompt, model, text_tokenizer, svg_tokenizer)\n",
    "    svgs.append(svg)\n",
    "\n",
    "# Compare the generated SVGs\n",
    "compare_svgs(svgs, titles=prompts)"
   ]
  },
  {
   "cell_type": "markdown",
   "metadata": {},
   "source": [
    "## 5. Save Generated SVGs\n",
    "\n",
    "Now let's save the generated SVGs to files for later use."
   ]
  },
  {
   "cell_type": "code",
   "execution_count": null,
   "metadata": {},
   "source": [
    "import os\n",
    "\n",
    "# Create a directory to save the SVGs\n",
    "output_dir = \"generated_svgs\"\n",
    "os.makedirs(output_dir, exist_ok=True)\n",
    "\n",
    "# Save each SVG\n",
    "for i, (prompt, svg) in enumerate(zip(prompts, svgs)):\n",
    "    # Create a safe filename from the prompt\n",
    "    safe_name = prompt.lower().replace(\" \", \"_\")[:30]\n",
    "    filename = os.path.join(output_dir, f\"{safe_name}.svg\")\n",
    "    \n",
    "    # Save to file\n",
    "    with open(filename, \"w\") as f:\n",
    "        f.write(svg)\n",
    "    \n",
    "    print(f\"Saved {filename}\")"
   ]
  },
  {
   "cell_type": "markdown",
   "metadata": {},
   "source": [
    "## 6. More Complex Examples\n",
    "\n",
    "Let's try some more complex examples that test the model's capabilities."
   ]
  },
  {
   "cell_type": "code",
   "execution_count": null,
   "metadata": {},
   "source": [
    "# Complex prompts\n",
    "complex_prompts = [\n",
    "    \"A colorful hot air balloon with a basket\",\n",
    "    \"A cartoon character with a green and yellow mushroom hat\",\n",
    "    \"A compass rose with north, south, east, and west markers\",\n",
    "    \"A black and white piano keyboard\"\n",
    "]\n",
    "\n",
    "# Generate SVGs with more tokens allowed\n",
    "complex_svgs = []\n",
    "for prompt in complex_prompts:\n",
    "    svg = generate_svg_from_text(prompt, model, text_tokenizer, svg_tokenizer, max_new_tokens=800)\n",
    "    complex_svgs.append(svg)\n",
    "\n",
    "# Compare the complex SVGs\n",
    "compare_svgs(complex_svgs, titles=complex_prompts)"
   ]
  },
  {
   "cell_type": "markdown",
   "metadata": {},
   "source": [
    "## Conclusion\n",
    "\n",
    "We've demonstrated how to use OmniSVG to generate vector graphics from text descriptions. The model can create both simple and complex SVGs with different styles and features."
   ]
  }
 ],
 "metadata": {
  "kernelspec": {
   "display_name": "Python 3",
   "language": "python",
   "name": "python3"
  },
  "language_info": {
   "codemirror_mode": {
    "name": "ipython",
    "version": 3
   },
   "file_extension": ".py",
   "mimetype": "text/x-python",
   "name": "python",
   "nbconvert_exporter": "python",
   "pygments_lexer": "ipython3",
   "version": "3.8.10"
  }
 },
 "nbformat": 4,
 "nbformat_minor": 4
}